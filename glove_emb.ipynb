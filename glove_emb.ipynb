{
  "nbformat": 4,
  "nbformat_minor": 0,
  "metadata": {
    "colab": {
      "name": "glove_emb.ipynb",
      "provenance": [],
      "collapsed_sections": []
    },
    "kernelspec": {
      "name": "python3",
      "display_name": "Python 3"
    },
    "accelerator": "GPU"
  },
  "cells": [
    {
      "cell_type": "code",
      "metadata": {
        "id": "iC-N7__qyCGi",
        "colab_type": "code",
        "colab": {}
      },
      "source": [
        "import pandas as pd\n",
        "import numpy as np\n",
        "from tqdm import tqdm\n",
        "import torch\n",
        "\n",
        "import os\n",
        "from sklearn.metrics import silhouette_score\n",
        "import umap\n",
        "\n",
        "import matplotlib.pyplot as plt\n",
        "from matplotlib import colors as mcolors"
      ],
      "execution_count": 0,
      "outputs": []
    },
    {
      "cell_type": "code",
      "metadata": {
        "id": "Q6eZiu8ayM5J",
        "colab_type": "code",
        "colab": {}
      },
      "source": [
        "# !pip install pymagnitude"
      ],
      "execution_count": 0,
      "outputs": []
    },
    {
      "cell_type": "code",
      "metadata": {
        "id": "r2mOOYd-yShV",
        "colab_type": "code",
        "colab": {}
      },
      "source": [
        "from pymagnitude import Magnitude"
      ],
      "execution_count": 0,
      "outputs": []
    },
    {
      "cell_type": "code",
      "metadata": {
        "id": "80ItDlhyydT1",
        "colab_type": "code",
        "outputId": "b0482a06-5734-4e18-dddb-0d8d239fee22",
        "colab": {
          "base_uri": "https://localhost:8080/",
          "height": 124
        }
      },
      "source": [
        "# mount google drive\n",
        "from google.colab import drive\n",
        "drive.mount('/content/gdrive')"
      ],
      "execution_count": 5,
      "outputs": [
        {
          "output_type": "stream",
          "text": [
            "Go to this URL in a browser: https://accounts.google.com/o/oauth2/auth?client_id=947318989803-6bn6qk8qdgf4n4g3pfee6491hc0brc4i.apps.googleusercontent.com&redirect_uri=urn%3aietf%3awg%3aoauth%3a2.0%3aoob&response_type=code&scope=email%20https%3a%2f%2fwww.googleapis.com%2fauth%2fdocs.test%20https%3a%2f%2fwww.googleapis.com%2fauth%2fdrive%20https%3a%2f%2fwww.googleapis.com%2fauth%2fdrive.photos.readonly%20https%3a%2f%2fwww.googleapis.com%2fauth%2fpeopleapi.readonly\n",
            "\n",
            "Enter your authorization code:\n",
            "··········\n",
            "Mounted at /content/gdrive\n"
          ],
          "name": "stdout"
        }
      ]
    },
    {
      "cell_type": "code",
      "metadata": {
        "id": "3XHEx77lzL_e",
        "colab_type": "code",
        "colab": {}
      },
      "source": [
        "data_path = os.path.join('gdrive', 'My Drive', 'Colab Notebooks', 'text_clustering', 'million-headlines', 'abcnews-date-text.csv')"
      ],
      "execution_count": 0,
      "outputs": []
    },
    {
      "cell_type": "code",
      "metadata": {
        "id": "RoEf9sLtzBu2",
        "colab_type": "code",
        "outputId": "89ffded2-9c39-4fcf-80b9-9be065ceefe2",
        "colab": {
          "base_uri": "https://localhost:8080/",
          "height": 35
        }
      },
      "source": [
        "# dataframe\n",
        "df_all = pd.read_csv(data_path)\n",
        "\n",
        "# get year from date and put that in a new column \"year\"\n",
        "df_all['year'] = df_all['publish_date'].apply(lambda s: str(s)[:4])\n",
        "\n",
        "print('shape of dataframe:', df_all.shape)"
      ],
      "execution_count": 7,
      "outputs": [
        {
          "output_type": "stream",
          "text": [
            "shape of dataframe: (1103663, 3)\n"
          ],
          "name": "stdout"
        }
      ]
    },
    {
      "cell_type": "code",
      "metadata": {
        "id": "o1UfmBzO1xZ8",
        "colab_type": "code",
        "outputId": "e3ec4a73-582a-4025-a49f-dcb936c1aba7",
        "colab": {
          "base_uri": "https://localhost:8080/",
          "height": 329
        }
      },
      "source": [
        "print('number of news headlines in different years:')\n",
        "print(df_all.groupby('year')['year'].count())"
      ],
      "execution_count": 8,
      "outputs": [
        {
          "output_type": "stream",
          "text": [
            "number of news headlines in different years:\n",
            "year\n",
            "2003    64003\n",
            "2004    72674\n",
            "2005    73124\n",
            "2006    66912\n",
            "2007    77192\n",
            "2008    80014\n",
            "2009    76454\n",
            "2010    74948\n",
            "2011    77829\n",
            "2012    89109\n",
            "2013    92337\n",
            "2014    82330\n",
            "2015    77941\n",
            "2016    54614\n",
            "2017    44182\n",
            "Name: year, dtype: int64\n"
          ],
          "name": "stdout"
        }
      ]
    },
    {
      "cell_type": "code",
      "metadata": {
        "id": "FVymjiUj1z_3",
        "colab_type": "code",
        "outputId": "d72bffc3-c5bf-466a-e3c4-0964ca06e100",
        "colab": {
          "base_uri": "https://localhost:8080/",
          "height": 35
        }
      },
      "source": [
        "# get news headlines from 2017 only\n",
        "df = df_all.loc[df_all['year'] == \"2017\"]\n",
        "\n",
        "print('shape of dataframe:', df.shape)"
      ],
      "execution_count": 9,
      "outputs": [
        {
          "output_type": "stream",
          "text": [
            "shape of dataframe: (44182, 3)\n"
          ],
          "name": "stdout"
        }
      ]
    },
    {
      "cell_type": "code",
      "metadata": {
        "id": "ziTPrEZ718Fm",
        "colab_type": "code",
        "outputId": "94980297-d2d4-43b9-d47c-a66c9f277e11",
        "colab": {
          "base_uri": "https://localhost:8080/",
          "height": 139
        }
      },
      "source": [
        "sentences = df['headline_text'].values\n",
        "print('headlines:')\n",
        "print(sentences)"
      ],
      "execution_count": 10,
      "outputs": [
        {
          "output_type": "stream",
          "text": [
            "headlines:\n",
            "['1986 queensland cabinet documents released'\n",
            " 'actor william cristopher mash chaplain dead at 84'\n",
            " 'adelaide hip hop artist dreams becoming influential in australia' ...\n",
            " 'what 2017 meant to the kids of australia'\n",
            " 'what the papodopoulos meeting may mean for ausus'\n",
            " 'who is george papadopoulos the former trump campaign aide']\n"
          ],
          "name": "stdout"
        }
      ]
    },
    {
      "cell_type": "code",
      "metadata": {
        "id": "YyT2n_YF9x9-",
        "colab_type": "code",
        "outputId": "83b18279-f1d2-4581-d355-796470dc4bf4",
        "colab": {
          "base_uri": "https://localhost:8080/",
          "height": 312
        }
      },
      "source": [
        "# download glove vectors\n",
        "!wget http://magnitude.plasticity.ai/glove/light/glove.6B.100d.magnitude glove/"
      ],
      "execution_count": 11,
      "outputs": [
        {
          "output_type": "stream",
          "text": [
            "--2019-12-21 01:42:42--  http://magnitude.plasticity.ai/glove/light/glove.6B.100d.magnitude\n",
            "Resolving magnitude.plasticity.ai (magnitude.plasticity.ai)... 52.216.237.90\n",
            "Connecting to magnitude.plasticity.ai (magnitude.plasticity.ai)|52.216.237.90|:80... connected.\n",
            "HTTP request sent, awaiting response... 200 OK\n",
            "Length: 193871872 (185M) [binary/octet-stream]\n",
            "Saving to: ‘glove.6B.100d.magnitude’\n",
            "\n",
            "glove.6B.100d.magni 100%[===================>] 184.89M  49.4MB/s    in 3.8s    \n",
            "\n",
            "2019-12-21 01:42:46 (48.6 MB/s) - ‘glove.6B.100d.magnitude’ saved [193871872/193871872]\n",
            "\n",
            "--2019-12-21 01:42:46--  http://glove/\n",
            "Resolving glove (glove)... failed: Name or service not known.\n",
            "wget: unable to resolve host address ‘glove’\n",
            "FINISHED --2019-12-21 01:42:46--\n",
            "Total wall clock time: 4.1s\n",
            "Downloaded: 1 files, 185M in 3.8s (48.6 MB/s)\n"
          ],
          "name": "stdout"
        }
      ]
    },
    {
      "cell_type": "code",
      "metadata": {
        "id": "yDtyt8pC92RE",
        "colab_type": "code",
        "colab": {}
      },
      "source": [
        "# Load Magnitude GloVe vectors\n",
        "glove_vectors = Magnitude('glove/glove.6B.100d.magnitude')"
      ],
      "execution_count": 0,
      "outputs": []
    },
    {
      "cell_type": "code",
      "metadata": {
        "id": "yTjxSPNMBkB8",
        "colab_type": "code",
        "colab": {}
      },
      "source": [
        "sentences_tok = list(map(str.split, sentences))"
      ],
      "execution_count": 0,
      "outputs": []
    },
    {
      "cell_type": "code",
      "metadata": {
        "id": "gNC1sNINzsgn",
        "colab_type": "code",
        "outputId": "f7eba9a4-b276-4c59-fbd5-9bc62a5b7394",
        "colab": {
          "base_uri": "https://localhost:8080/",
          "height": 35
        }
      },
      "source": [
        "# GLOVE embeddings\n",
        "\n",
        "sentence_embs = glove_vectors.query(sentences_tok)\n",
        "\n",
        "# compute sentence embedding as mean of word embeddings\n",
        "sentence_embs = sentence_embs.mean(1)\n",
        "\n",
        "\n",
        "print(sentence_embs.shape)"
      ],
      "execution_count": 28,
      "outputs": [
        {
          "output_type": "stream",
          "text": [
            "(44182, 100)\n"
          ],
          "name": "stdout"
        }
      ]
    },
    {
      "cell_type": "code",
      "metadata": {
        "id": "8-lPa3YXz8QW",
        "colab_type": "code",
        "colab": {}
      },
      "source": [
        "################\n",
        "# kmeans utils #\n",
        "################\n",
        "\n",
        "def forgy(X, n_clusters):\n",
        "    _len = len(X)\n",
        "    indices = np.random.choice(_len, n_clusters, replace=False)\n",
        "    initial_state = X[indices]\n",
        "    return initial_state\n",
        "\n",
        "\n",
        "def do_kmeans_clustering(X, n_clusters, distance='euclidean', tol=1e-4, device=torch.device('cpu')):\n",
        "    print(f'k-means clustering on {device}..')\n",
        "\n",
        "    if distance == 'euclidean':\n",
        "        pairwise_distance_function = pairwise_distance\n",
        "    elif distance == 'cosine':\n",
        "        pairwise_distance_function = pairwise_cosine\n",
        "    else:\n",
        "        raise NotImplementedError\n",
        "\n",
        "    X = X.float()\n",
        "    # transfer to device\n",
        "    X = X.to(device)\n",
        "\n",
        "    initial_state = forgy(X, n_clusters)\n",
        "\n",
        "    iteration = 0\n",
        "    tqdm_meter = tqdm()\n",
        "    while True:\n",
        "        dis = pairwise_distance_function(X, initial_state)\n",
        "\n",
        "        choice_cluster = torch.argmin(dis, dim=1)\n",
        "\n",
        "        initial_state_pre = initial_state.clone()\n",
        "\n",
        "        for index in range(n_clusters):\n",
        "            selected = torch.nonzero(choice_cluster == index).squeeze().to(device)\n",
        "\n",
        "            selected = torch.index_select(X, 0, selected)\n",
        "            initial_state[index] = selected.mean(dim=0)\n",
        "\n",
        "        center_shift = torch.sum(torch.sqrt(torch.sum((initial_state - initial_state_pre) ** 2, dim=1)))\n",
        "\n",
        "        # increment iteration\n",
        "        iteration = iteration + 1\n",
        "\n",
        "        # update tqdm meter\n",
        "        tqdm_meter.set_postfix(iteration=f'{iteration}', center_shift=f'{center_shift ** 2}', tol=f'{tol}')\n",
        "\n",
        "        if center_shift ** 2 < tol:\n",
        "            break\n",
        "\n",
        "    return choice_cluster.cpu(), initial_state.cpu()\n",
        "\n",
        "\n",
        "def kmeans_predict(X, cluster_centers, distance='euclidean', device=torch.device('cpu')):\n",
        "    print(f'predicting on {device}..')\n",
        "\n",
        "    if distance == 'euclidean':\n",
        "        pairwise_distance_function = pairwise_distance\n",
        "    elif distance == 'cosine':\n",
        "        pairwise_distance_function = pairwise_cosine\n",
        "    else:\n",
        "        raise NotImplementedError\n",
        "\n",
        "    X = X.float()\n",
        "    # transfer to device\n",
        "    X = X.to(device)\n",
        "\n",
        "    dis = pairwise_distance_function(X, cluster_centers)\n",
        "    choice_cluster = torch.argmin(dis, dim=1)\n",
        "\n",
        "    return choice_cluster.cpu()\n",
        "\n",
        "\n",
        "'''\n",
        "calculation of pairwise distance, and return condensed result,\n",
        " i.e. we omit the diagonal and duplicate entries and store \n",
        " everything in a one-dimensional array\n",
        "'''\n",
        "\n",
        "\n",
        "def pairwise_distance(data1, data2=None, device=torch.device('cpu')):\n",
        "    r'''\n",
        "    using broadcast mechanism to calculate pairwise euclidean distance of data\n",
        "    the input data is N*M matrix, where M is the dimension\n",
        "    we first expand the N*M matrix into N*1*M matrix A and 1*N*M matrix B\n",
        "    then a simple elementwise operation of A and B will handle the pairwise operation of points represented by data\n",
        "    '''\n",
        "    if data2 is None:\n",
        "        data2 = data1\n",
        "\n",
        "    data1, data2 = data1.to(device), data2.to(device)\n",
        "\n",
        "    # N*1*M\n",
        "    A = data1.unsqueeze(dim=1)\n",
        "\n",
        "    # 1*N*M\n",
        "    B = data2.unsqueeze(dim=0)\n",
        "\n",
        "    dis = (A - B) ** 2.0\n",
        "    # return N*N matrix for pairwise distance\n",
        "    dis = dis.sum(dim=-1).squeeze()\n",
        "    return dis\n",
        "\n",
        "\n",
        "def pairwise_cosine(data1, data2=None, device=torch.device('cpu')):\n",
        "    r'''\n",
        "    using broadcast mechanism to calculate pairwise cosine distance of data\n",
        "    the input data is N*M matrix, where M is the dimension\n",
        "    we first expand the N*M matrix into N*1*M matrix A and 1*N*M matrix B\n",
        "    then a simple elementwise operation of A and B will handle the pairwise operation of points represented by data\n",
        "    '''\n",
        "    if data2 is None:\n",
        "        data2 = data1\n",
        "\n",
        "    data1, data2 = data1.to(device), data2.to(device)\n",
        "\n",
        "    # N*1*M\n",
        "    A = data1.unsqueeze(dim=1)\n",
        "\n",
        "    # 1*N*M\n",
        "    B = data2.unsqueeze(dim=0)\n",
        "\n",
        "    # normalize the points  | [0.3, 0.4] -> [0.3/sqrt(0.09 + 0.16), 0.4/sqrt(0.09 + 0.16)] = [0.3/0.5, 0.4/0.5]\n",
        "    A_normalized = A / A.norm(dim=-1, keepdim=True)\n",
        "    B_normalized = B / B.norm(dim=-1, keepdim=True)\n",
        "\n",
        "    cosine = A_normalized * B_normalized\n",
        "\n",
        "    # return N*N matrix for pairwise distance\n",
        "    cosine_dis = 1 - cosine.sum(dim=-1).squeeze()\n",
        "    return cosine_dis\n",
        "\n",
        "\n",
        "def group_pairwise(X, groups, device=torch.device('cpu'), fun=lambda r, c: pairwise_distance(r, c).cpu()):\n",
        "    group_dict = {}\n",
        "    for group_index_r, group_r in enumerate(groups):\n",
        "        for group_index_c, group_c in enumerate(groups):\n",
        "            R, C = X[group_r], X[group_c]\n",
        "            R, C = R.to(device), C.to(device)\n",
        "            group_dict[(group_index_r, group_index_c)] = fun(R, C)\n",
        "    return group_dict\n"
      ],
      "execution_count": 0,
      "outputs": []
    },
    {
      "cell_type": "code",
      "metadata": {
        "id": "A0Pk8mbF2bC2",
        "colab_type": "code",
        "colab": {}
      },
      "source": [
        "# set device\n",
        "device = torch.device('cuda:0' if torch.cuda.is_available() else 'cpu')"
      ],
      "execution_count": 0,
      "outputs": []
    },
    {
      "cell_type": "code",
      "metadata": {
        "id": "oBCRLPig21Lh",
        "colab_type": "code",
        "outputId": "af6a7d2a-6f72-48a7-8a72-a417f15b84e4",
        "colab": {
          "base_uri": "https://localhost:8080/",
          "height": 191
        }
      },
      "source": [
        "# find good k (number of clusters)\n",
        "\n",
        "sil_scores = []\n",
        "for k in [2, 3, 4, 5, 6]:\n",
        "    # k-means clustering\n",
        "    cluster_ids_x, cluster_centers = do_kmeans_clustering(\n",
        "        X=torch.from_numpy(sentence_embs),\n",
        "        n_clusters=k,\n",
        "        distance='cosine',\n",
        "        device=device\n",
        "    )\n",
        "\n",
        "    sil_scores.append(silhouette_score(sentence_embs, cluster_ids_x.numpy(), metric='cosine'))"
      ],
      "execution_count": 31,
      "outputs": [
        {
          "output_type": "stream",
          "text": [
            "k-means clustering on cuda:0..\n"
          ],
          "name": "stdout"
        },
        {
          "output_type": "stream",
          "text": [
            "0it [00:00, ?it/s, center_shift=9.998252789955586e-05, iteration=5, tol=0.0001] \n",
            "0it [00:00, ?it/s, center_shift=0.2516506016254425, iteration=1, tol=0.0001]"
          ],
          "name": "stderr"
        },
        {
          "output_type": "stream",
          "text": [
            "k-means clustering on cuda:0..\n"
          ],
          "name": "stdout"
        },
        {
          "output_type": "stream",
          "text": [
            "0it [00:01, ?it/s, center_shift=9.468859934713691e-05, iteration=9, tol=0.0001] \n",
            "0it [00:00, ?it/s, center_shift=0.46211981773376465, iteration=1, tol=0.0001]"
          ],
          "name": "stderr"
        },
        {
          "output_type": "stream",
          "text": [
            "k-means clustering on cuda:0..\n"
          ],
          "name": "stdout"
        },
        {
          "output_type": "stream",
          "text": [
            "0it [00:01, ?it/s, center_shift=7.081524381646886e-05, iteration=10, tol=0.0001]\n",
            "0it [00:00, ?it/s, center_shift=0.6817715167999268, iteration=1, tol=0.0001]"
          ],
          "name": "stderr"
        },
        {
          "output_type": "stream",
          "text": [
            "k-means clustering on cuda:0..\n"
          ],
          "name": "stdout"
        },
        {
          "output_type": "stream",
          "text": [
            "0it [00:02, ?it/s, center_shift=6.983326602494344e-05, iteration=17, tol=0.0001]\n",
            "0it [00:00, ?it/s, center_shift=0.9555698037147522, iteration=1, tol=0.0001]"
          ],
          "name": "stderr"
        },
        {
          "output_type": "stream",
          "text": [
            "k-means clustering on cuda:0..\n"
          ],
          "name": "stdout"
        },
        {
          "output_type": "stream",
          "text": [
            "0it [00:01, ?it/s, center_shift=5.675719876307994e-05, iteration=13, tol=0.0001] \n"
          ],
          "name": "stderr"
        }
      ]
    },
    {
      "cell_type": "code",
      "metadata": {
        "id": "wYAeJKgp5byv",
        "colab_type": "code",
        "colab": {
          "base_uri": "https://localhost:8080/",
          "height": 641
        },
        "outputId": "48c6345d-1b9d-474d-9d63-38334dc8e9b2"
      },
      "source": [
        "# plot silhouette scores\n",
        "plt.figure(figsize=(6, 4), dpi=160)\n",
        "plt.plot([2, 3, 4, 5, 6], sil_scores, color='xkcd:bluish purple')\n",
        "plt.xticks([2, 3, 4, 5, 6])\n",
        "plt.xlabel('number of clusters', fontsize=14)\n",
        "plt.ylabel('silhouette score', fontsize=14)\n",
        "plt.title('finding optimum number of clusters', fontsize=14)\n",
        "plt.show()"
      ],
      "execution_count": 32,
      "outputs": [
        {
          "output_type": "display_data",
          "data": {
            "image/png": "[encoded data removed]",
            "text/plain": [
              "<Figure size 960x640 with 1 Axes>"
            ]
          },
          "metadata": {
            "tags": []
          }
        }
      ]
    },
    {
      "cell_type": "code",
      "metadata": {
        "id": "rIrr59FXzyYl",
        "colab_type": "code",
        "outputId": "4eec8da4-5daf-4560-d613-b1b9da75c6dd",
        "colab": {
          "base_uri": "https://localhost:8080/",
          "height": 52
        }
      },
      "source": [
        "# cluster using k with max silhoutte score\n",
        "num_clusters = np.argmax(sil_scores) + 2  # 0th index means 2 clusters, ..\n",
        "\n",
        "cluster_ids_x, cluster_centers = do_kmeans_clustering(\n",
        "    X=torch.from_numpy(sentence_embs),\n",
        "    n_clusters=num_clusters,\n",
        "    distance='cosine',\n",
        "    device=device\n",
        ")"
      ],
      "execution_count": 33,
      "outputs": [
        {
          "output_type": "stream",
          "text": [
            "0it [00:00, ?it/s, center_shift=0.1724998652935028, iteration=1, tol=0.0001]"
          ],
          "name": "stderr"
        },
        {
          "output_type": "stream",
          "text": [
            "k-means clustering on cuda:0..\n"
          ],
          "name": "stdout"
        },
        {
          "output_type": "stream",
          "text": [
            "0it [00:00, ?it/s, center_shift=7.715690298937261e-05, iteration=6, tol=0.0001]\n"
          ],
          "name": "stderr"
        }
      ]
    },
    {
      "cell_type": "code",
      "metadata": {
        "id": "JXQ98syV0H3V",
        "colab_type": "code",
        "outputId": "f0dfb521-c6fc-43c3-fbf7-85946283269f",
        "colab": {
          "base_uri": "https://localhost:8080/",
          "height": 627
        }
      },
      "source": [
        "# UMAP\n",
        "emb_umap = umap.UMAP(metric='cosine', verbose=True).fit_transform(sentence_embs)"
      ],
      "execution_count": 35,
      "outputs": [
        {
          "output_type": "stream",
          "text": [
            "UMAP(a=None, angular_rp_forest=False, b=None, init='spectral',\n",
            "     learning_rate=1.0, local_connectivity=1.0, metric='cosine',\n",
            "     metric_kwds=None, min_dist=0.1, n_components=2, n_epochs=None,\n",
            "     n_neighbors=15, negative_sample_rate=5, random_state=None,\n",
            "     repulsion_strength=1.0, set_op_mix_ratio=1.0, spread=1.0,\n",
            "     target_metric='categorical', target_metric_kwds=None,\n",
            "     target_n_neighbors=-1, target_weight=0.5, transform_queue_size=4.0,\n",
            "     transform_seed=42, verbose=True)\n",
            "Construct fuzzy simplicial set\n",
            "Sat Dec 21 01:55:55 2019 Finding Nearest Neighbors\n",
            "Sat Dec 21 01:55:55 2019 Building RP forest with 16 trees\n",
            "Sat Dec 21 01:55:57 2019 NN descent for 15 iterations\n",
            "\t 0  /  15\n",
            "\t 1  /  15\n",
            "\t 2  /  15\n",
            "\t 3  /  15\n",
            "\t 4  /  15\n",
            "\t 5  /  15\n",
            "\t 6  /  15\n",
            "Sat Dec 21 01:56:15 2019 Finished Nearest Neighbor Search\n",
            "Sat Dec 21 01:56:18 2019 Construct embedding\n"
          ],
          "name": "stdout"
        },
        {
          "output_type": "stream",
          "text": [
            "/usr/local/lib/python3.6/dist-packages/umap/spectral.py:229: UserWarning: Embedding a total of 2 separate connected components using meta-embedding (experimental)\n",
            "  n_components\n"
          ],
          "name": "stderr"
        },
        {
          "output_type": "stream",
          "text": [
            "\tcompleted  0  /  200 epochs\n",
            "\tcompleted  20  /  200 epochs\n",
            "\tcompleted  40  /  200 epochs\n",
            "\tcompleted  60  /  200 epochs\n",
            "\tcompleted  80  /  200 epochs\n",
            "\tcompleted  100  /  200 epochs\n",
            "\tcompleted  120  /  200 epochs\n",
            "\tcompleted  140  /  200 epochs\n",
            "\tcompleted  160  /  200 epochs\n",
            "\tcompleted  180  /  200 epochs\n",
            "Sat Dec 21 01:57:13 2019 Finished embedding\n"
          ],
          "name": "stdout"
        }
      ]
    },
    {
      "cell_type": "code",
      "metadata": {
        "id": "Z6RRKrK00U6V",
        "colab_type": "code",
        "outputId": "97a3e950-a826-4ce7-f613-f892c83b7203",
        "colab": {
          "base_uri": "https://localhost:8080/",
          "height": 845
        }
      },
      "source": [
        "# plot\n",
        "cols = [color for name, color in mcolors.TABLEAU_COLORS.items()]\n",
        "plt.figure(figsize=(6, 6), dpi=160)\n",
        "for cluster_id in range(num_clusters):\n",
        "    plt.scatter(\n",
        "        emb_umap[cluster_ids_x == cluster_id][:, 0],\n",
        "        emb_umap[cluster_ids_x == cluster_id][:, 1],\n",
        "        color=cols[cluster_id],\n",
        "        label=f'cluster {cluster_id}'\n",
        "    )\n",
        "\n",
        "plt.title('UMAP Sentence Embeddings', fontsize=14)\n",
        "plt.legend(fontsize=10)\n",
        "plt.show()"
      ],
      "execution_count": 37,
      "outputs": [
        {
          "output_type": "display_data",
          "data": {
            "image/png": "[encoded data removed]",
            "text/plain": [
              "<Figure size 960x960 with 1 Axes>"
            ]
          },
          "metadata": {
            "tags": []
          }
        }
      ]
    },
    {
      "cell_type": "code",
      "metadata": {
        "id": "skMfMbFu05y4",
        "colab_type": "code",
        "colab": {
          "base_uri": "https://localhost:8080/",
          "height": 364
        },
        "outputId": "cb48b28c-fa1f-4a27-8cef-0f2e8f43b8e7"
      },
      "source": [
        "np.random.choice(sentences[cluster_ids_x == 0], 20, replace=False)"
      ],
      "execution_count": 38,
      "outputs": [
        {
          "output_type": "execute_result",
          "data": {
            "text/plain": [
              "array(['crocodile forces closure of berry springs swmming hole in nt',\n",
              "       'first time mothers uncertain about vaccinating their children',\n",
              "       'forgotten stories of indigenous heritage discovered in archives',\n",
              "       'rattled by trump arab leaders renew call for palestine',\n",
              "       'dead carp wash up along hindmarsh island',\n",
              "       'india vs australia pat cummins ready for potential test return',\n",
              "       'unexpected labour handled calmly and safely by nsw ambulance',\n",
              "       'lindt cafe siege new laws protect police shoot terrorists dead',\n",
              "       'qld police survey results show third of officers feel burned out',\n",
              "       'red bull heir continues to evade charges over',\n",
              "       'why are all virtual assisants female and are they discriminatory',\n",
              "       'tiwi islands catholic priest welcome same sex marriage weddings',\n",
              "       'alleged adelaide killer affected by sensory deprivation',\n",
              "       'three women found dead on gold coast',\n",
              "       'grandstand 2017 sporting year in review',\n",
              "       'push to open up tasmanian forests to logging passes first hurdle',\n",
              "       'sa liberal labor donations ahead of march 2018 election',\n",
              "       'sa government unveils plans upgrade cleland wildlife park',\n",
              "       'the story of the blayney lime kilns',\n",
              "       'explainer what is americas thaad missile system'], dtype=object)"
            ]
          },
          "metadata": {
            "tags": []
          },
          "execution_count": 38
        }
      ]
    },
    {
      "cell_type": "code",
      "metadata": {
        "id": "zNFSZm7FLMnk",
        "colab_type": "code",
        "colab": {
          "base_uri": "https://localhost:8080/",
          "height": 364
        },
        "outputId": "dc096234-312e-4c76-9b29-6fd63610a6ed"
      },
      "source": [
        "np.random.choice(sentences[cluster_ids_x == 1], 20, replace=False)"
      ],
      "execution_count": 39,
      "outputs": [
        {
          "output_type": "execute_result",
          "data": {
            "text/plain": [
              "array(['blackmores boss christine holgate china trade',\n",
              "       'interview: tony burke; shadow environment and',\n",
              "       'hobart cable car explained',\n",
              "       'page turner an invaluable partner for omega ensemble pianists',\n",
              "       'interview: faisal mekdad; syrias deputy foreign',\n",
              "       'donald trump threatens the press; again',\n",
              "       'russias lawyer goes off script in mh17 hague hearings',\n",
              "       'superintendent mick odowd makes a public appeal',\n",
              "       'aoc media director mike tancred cleared of bullying',\n",
              "       'body of 79yo man recovered from murray river',\n",
              "       'tractor trek traces burke and wills journey',\n",
              "       'sophie cape says experimental surgeries left her scarred',\n",
              "       'new zealand authorities issue arrest warrant for alan langdon',\n",
              "       'queens bday honours neil mackenzie rail enthusiast brisbane',\n",
              "       'rambo police pilot reappears after hijacking chopper',\n",
              "       'man dies after oaklands park stabbing',\n",
              "       'afl scorecentre geelong cats adelaide crows', 'mushroom max',\n",
              "       'girlfriend of las vegas gunman says she had no',\n",
              "       'film is not dead film photography resurgence brisbane'],\n",
              "      dtype=object)"
            ]
          },
          "metadata": {
            "tags": []
          },
          "execution_count": 39
        }
      ]
    },
    {
      "cell_type": "code",
      "metadata": {
        "id": "3COjqupLLOZy",
        "colab_type": "code",
        "colab": {}
      },
      "source": [
        ""
      ],
      "execution_count": 0,
      "outputs": []
    }
  ]
}